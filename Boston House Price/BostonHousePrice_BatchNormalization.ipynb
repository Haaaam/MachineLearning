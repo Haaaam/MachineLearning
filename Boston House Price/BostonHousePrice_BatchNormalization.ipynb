{
  "nbformat": 4,
  "nbformat_minor": 0,
  "metadata": {
    "colab": {
      "name": "BostonHousePrice_BatchNormalization.ipynb",
      "private_outputs": true,
      "provenance": []
    },
    "kernelspec": {
      "name": "python3",
      "display_name": "Python 3"
    }
  },
  "cells": [
    {
      "cell_type": "markdown",
      "metadata": {
        "id": "Dwjb1v1tiLY-"
      },
      "source": [
        "### 학습이 잘 되는 모델\r\n",
        "- 사용할 레이어\r\n",
        " - tf.keras.layers.BatchNormalization()\r\n",
        " - tf.keras.layers.Activation('swish')\r\n",
        "- 데이터\r\n",
        " - 보스턴 집값 예측: https://github.com/blackdew/tensorflow1/blob/master/csv/boston.csv\r\n",
        "- 데이터 모델을 만들 때 BatchNormalization layer를 사용"
      ]
    },
    {
      "cell_type": "code",
      "metadata": {
        "id": "-S7E3wn8iNEl"
      },
      "source": [
        "import pandas as pd\r\n",
        "import tensorflow as tf\r\n",
        "\r\n",
        "boston_dir='https://raw.githubusercontent.com/blackdew/tensorflow1/master/csv/boston.csv'\r\n",
        "boston=pd.read_csv(boston_dir)\r\n",
        "display(boston.head())"
      ],
      "execution_count": null,
      "outputs": []
    },
    {
      "cell_type": "code",
      "metadata": {
        "id": "tBgcpulviOkT"
      },
      "source": [
        "a=boston[['crim','zn','indus','chas','nox','rm','age','dis','rad','tax','ptratio','b','lstat']]\r\n",
        "b=boston[['medv']]\r\n",
        "print(a.shape,b.shape)"
      ],
      "execution_count": null,
      "outputs": []
    },
    {
      "cell_type": "code",
      "metadata": {
        "id": "SLVUHS6MiQfk"
      },
      "source": [
        "#모델의 구조를 BatchNormalization layer를 사용해서 만든다.\r\n",
        "X=tf.keras.layers.Input(shape=[13])\r\n",
        "H=tf.keras.layers.Dense(8)(X)#hiddenlayer생성\r\n",
        "H=tf.keras.layers.BatchNormalization()(H)\r\n",
        "H=tf.keras.layers.Activation('swish')(H)\r\n",
        "\r\n",
        "H=tf.keras.layers.Dense(8)(H)\r\n",
        "H=tf.keras.layers.BatchNormalization()(H)\r\n",
        "H=tf.keras.layers.Activation('swish')(H)\r\n",
        "\r\n",
        "H=tf.keras.layers.Dense(8)(H)\r\n",
        "H=tf.keras.layers.BatchNormalization()(H)\r\n",
        "H=tf.keras.layers.Activation('swish')(H)\r\n",
        "\r\n",
        "Y=tf.keras.layers.Dense(1)(H)\r\n",
        "model=tf.keras.models.Model(X,Y)\r\n",
        "model.compile(loss='mse')"
      ],
      "execution_count": null,
      "outputs": []
    },
    {
      "cell_type": "code",
      "metadata": {
        "id": "ETQEOcSXiRx4"
      },
      "source": [
        "model.fit(a,b,epochs=1000)"
      ],
      "execution_count": null,
      "outputs": []
    },
    {
      "cell_type": "code",
      "metadata": {
        "id": "kC4a7GvciS9d"
      },
      "source": [
        "print(\"predictions: \",model.predict(a[:5]))\r\n",
        "print(b[:5])"
      ],
      "execution_count": null,
      "outputs": []
    },
    {
      "cell_type": "code",
      "metadata": {
        "id": "HblvzF-iiVEU"
      },
      "source": [
        "#모델 가중치 확인\r\n",
        "print(model.get_weights())"
      ],
      "execution_count": null,
      "outputs": []
    },
    {
      "cell_type": "code",
      "metadata": {
        "id": "ltHKWhPnio5A"
      },
      "source": [
        ""
      ],
      "execution_count": null,
      "outputs": []
    }
  ]
}