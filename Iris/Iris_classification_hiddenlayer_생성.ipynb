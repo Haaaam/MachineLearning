{
  "nbformat": 4,
  "nbformat_minor": 0,
  "metadata": {
    "colab": {
      "name": "Iris classification_hiddenlayer_생성.ipynb",
      "private_outputs": true,
      "provenance": []
    },
    "kernelspec": {
      "name": "python3",
      "display_name": "Python 3"
    },
    "accelerator": "GPU"
  },
  "cells": [
    {
      "cell_type": "markdown",
      "metadata": {
        "id": "L3RoiPtTmaxv"
      },
      "source": [
        "#### 종속변수가 범주형일때 분류 모델을 만드는 방법"
      ]
    },
    {
      "cell_type": "code",
      "metadata": {
        "id": "E9YtUGdcik4n"
      },
      "source": [
        "import pandas as pd\r\n",
        "import tensorflow as tf\r\n",
        "\r\n",
        "iris_dir='https://raw.githubusercontent.com/blackdew/tensorflow1/master/csv/iris.csv'\r\n",
        "iris=pd.read_csv(iris_dir)\r\n",
        "display(iris.head())"
      ],
      "execution_count": null,
      "outputs": []
    },
    {
      "cell_type": "code",
      "metadata": {
        "id": "XrSWSA7ajMrw"
      },
      "source": [
        "#원핫 인코딩\r\n",
        "encoding=pd.get_dummies(iris)\r\n",
        "display(encoding)"
      ],
      "execution_count": null,
      "outputs": []
    },
    {
      "cell_type": "code",
      "metadata": {
        "id": "Z6mT0Gg5j2yz"
      },
      "source": [
        "#독립변수, 종속변수\r\n",
        "a=encoding[['꽃잎길이','꽃잎폭','꽃받침길이','꽃받침폭']]\r\n",
        "b=encoding[['품종_setosa','품종_versicolor','품종_virginica']]\r\n",
        "print(a.shape,b.shape)"
      ],
      "execution_count": null,
      "outputs": []
    },
    {
      "cell_type": "code",
      "metadata": {
        "id": "eQCUiI1HkSkz"
      },
      "source": [
        "#모델 구조\r\n",
        "X=tf.keras.layers.Input(shape=[4])\r\n",
        "H=tf.keras.layers.Dense(8,activation='swish')(X)\r\n",
        "H=tf.keras.layers.Dense(8,activation='swish')(H)\r\n",
        "H=tf.keras.layers.Dense(8,activation='swish')(H)\r\n",
        "Y=tf.keras.layers.Dense(3,activation='softmax')(H)\r\n",
        "model=tf.keras.models.Model(X,Y)\r\n",
        "model.compile(loss='categorical_crossentropy',\r\n",
        "              metrics='accuracy')"
      ],
      "execution_count": null,
      "outputs": []
    },
    {
      "cell_type": "code",
      "metadata": {
        "id": "jkFYQWKXksNC"
      },
      "source": [
        "model.fit(a,b,epochs=1000)"
      ],
      "execution_count": null,
      "outputs": []
    },
    {
      "cell_type": "code",
      "metadata": {
        "id": "L_tOTm8Uk0ee"
      },
      "source": [
        "print(\"predictions=\",model.predict(a[-5:]))"
      ],
      "execution_count": null,
      "outputs": []
    },
    {
      "cell_type": "code",
      "metadata": {
        "id": "pyNrIs8qlKF4"
      },
      "source": [
        "print(b[-5:])"
      ],
      "execution_count": null,
      "outputs": []
    },
    {
      "cell_type": "code",
      "metadata": {
        "id": "qDMuiVeNltVs"
      },
      "source": [
        "#학습한 가중치\r\n",
        "model.get_weights()"
      ],
      "execution_count": null,
      "outputs": []
    },
    {
      "cell_type": "code",
      "metadata": {
        "id": "aeE6wPRDmZXq"
      },
      "source": [
        ""
      ],
      "execution_count": null,
      "outputs": []
    },
    {
      "cell_type": "code",
      "metadata": {
        "id": "JDWMUTe0mIsD"
      },
      "source": [
        ""
      ],
      "execution_count": null,
      "outputs": []
    }
  ]
}